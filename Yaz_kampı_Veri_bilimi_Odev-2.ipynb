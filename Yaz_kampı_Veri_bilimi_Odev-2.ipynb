{
 "cells": [
  {
   "cell_type": "code",
   "execution_count": 1,
   "id": "b266efc4-c9ae-4595-9584-91d125589bf1",
   "metadata": {},
   "outputs": [],
   "source": [
    "#SORU-1 SAYI ANALİZİ"
   ]
  },
  {
   "cell_type": "code",
   "execution_count": 3,
   "id": "f03a08b6-b05d-4156-8ea7-01e0154fbdfc",
   "metadata": {},
   "outputs": [
    {
     "name": "stdin",
     "output_type": "stream",
     "text": [
      "Bir sayi giriniz:  99\n"
     ]
    },
    {
     "name": "stdout",
     "output_type": "stream",
     "text": [
      "Pozitif ve Tek\n"
     ]
    }
   ],
   "source": [
    "sayi = int(input(\"Bir sayi giriniz: \"))\n",
    "\n",
    "if sayi > 0 and sayi % 2 == 0:\n",
    "    sonuc = \"Pozitif ve Çift\"\n",
    "elif sayi > 0 and sayi % 2 == 1:\n",
    "    sonuc = \"Pozitif ve Tek\"\n",
    "elif sayi < 0 and sayi % 2 == 0:\n",
    "    sonuc = \"Negatif ve Çift\"\n",
    "elif sayi < 0 and sayi % 2 == 1:\n",
    "    sonuc = \"Negatif ve Tek\"\n",
    "else:\n",
    "    sonuc = \"Sıfır\"\n",
    "\n",
    "print(sonuc)\n"
   ]
  },
  {
   "cell_type": "code",
   "execution_count": 5,
   "id": "2eac844d-3060-43ed-a28f-1e2a48bbe506",
   "metadata": {},
   "outputs": [],
   "source": [
    "#SORU-2 HARF FREKANSI"
   ]
  },
  {
   "cell_type": "code",
   "execution_count": 9,
   "id": "30df9fca-a088-40ff-bca1-02d97025ab23",
   "metadata": {},
   "outputs": [
    {
     "name": "stdin",
     "output_type": "stream",
     "text": [
      "Bir kelime giriniz: veri_bilimi\n"
     ]
    },
    {
     "name": "stdout",
     "output_type": "stream",
     "text": [
      "{'v': 1, 'e': 1, 'r': 1, 'i': 4, '_': 1, 'b': 1, 'l': 1, 'm': 1}\n"
     ]
    }
   ],
   "source": [
    "kelime=str(input(\"Bir kelime giriniz:\"))\n",
    "\n",
    "frekans ={}\n",
    "\n",
    "for harf in kelime:\n",
    "    if harf in frekans:\n",
    "        frekans[harf]+=1\n",
    "    else:\n",
    "        frekans[harf]=1\n",
    "\n",
    "print(frekans)"
   ]
  },
  {
   "cell_type": "code",
   "execution_count": 13,
   "id": "8d456b28-5316-48e5-b265-a5057f83f60b",
   "metadata": {},
   "outputs": [],
   "source": [
    "#SORU-3 ŞİFRE KONTROLÜ"
   ]
  },
  {
   "cell_type": "code",
   "execution_count": 21,
   "id": "71aad7d2-cb91-486b-adc9-5d2a3659beaf",
   "metadata": {},
   "outputs": [
    {
     "name": "stdin",
     "output_type": "stream",
     "text": [
      "Şifre girin:  Techcareer2025\n"
     ]
    },
    {
     "name": "stdout",
     "output_type": "stream",
     "text": [
      "Şifre geçerli!\n"
     ]
    }
   ],
   "source": [
    "sifre = input(\"Şifre girin: \")\n",
    "\n",
    "gecerli = True\n",
    "mesajlar = []\n",
    "\n",
    "if len(sifre) < 8:\n",
    "    gecerli = False\n",
    "    mesajlar.append(\"Şifre en az 8 karakter olmalı.\")\n",
    "\n",
    "if not any(harf.isupper() for harf in sifre):\n",
    "    gecerli = False\n",
    "    mesajlar.append(\"Şifre en az bir büyük harf içermeli.\")\n",
    "\n",
    "if not any(harf.isdigit() for harf in sifre):\n",
    "    gecerli = False\n",
    "    mesajlar.append(\"Şifre en az bir rakam içermeli.\")\n",
    "    \n",
    "if gecerli:\n",
    "    print(\"Şifre geçerli!\")\n",
    "else:\n",
    "    for m in mesajlar:\n",
    "        print(m)\n"
   ]
  },
  {
   "cell_type": "code",
   "execution_count": null,
   "id": "7fe27c02-fe0b-4d79-9ce8-6986375f860a",
   "metadata": {},
   "outputs": [],
   "source": [
    "#SORU-4 LİSTE İŞLEMLERİ"
   ]
  },
  {
   "cell_type": "code",
   "execution_count": 31,
   "id": "ac1d6af8-0f6c-4f2f-ad5c-84f8ddf76450",
   "metadata": {},
   "outputs": [
    {
     "name": "stdout",
     "output_type": "stream",
     "text": [
      "ortalama: 15.0\n",
      "ortalamadan büyük sayılar: [25, 30, 18]\n"
     ]
    }
   ],
   "source": [
    "liste =[12,4,9,25,30,7,18]\n",
    "\n",
    "ortalama = sum(liste)/len(liste)\n",
    "print(\"ortalama:\",ortalama)\n",
    "\n",
    "buyukler =[]\n",
    "for x in liste:\n",
    "    if x> ortalama:\n",
    "        buyukler.append(x)\n",
    "\n",
    "print(\"ortalamadan büyük sayılar:\",buyukler)"
   ]
  },
  {
   "cell_type": "code",
   "execution_count": 33,
   "id": "9a6345c1-77cb-42cf-8b54-7a9d05beb587",
   "metadata": {},
   "outputs": [],
   "source": [
    "#SORU-5 NESTED LOOP"
   ]
  },
  {
   "cell_type": "code",
   "execution_count": 47,
   "id": "fb18bb5f-a72b-4723-858d-b1b7bc6c615d",
   "metadata": {},
   "outputs": [
    {
     "name": "stdout",
     "output_type": "stream",
     "text": [
      "*\n",
      "**\n",
      "***\n",
      "****\n",
      "*****\n"
     ]
    }
   ],
   "source": [
    "for i in range (1,6):\n",
    "    for j in range(i):\n",
    "        print(\"*\",end=\"\")\n",
    "    print()\n",
    "    "
   ]
  },
  {
   "cell_type": "code",
   "execution_count": null,
   "id": "d1e01e36-a571-4b0c-a6da-e9a80923325c",
   "metadata": {},
   "outputs": [],
   "source": [
    "#SORU-6 WHİLE DÖNGÜSÜ"
   ]
  },
  {
   "cell_type": "code",
   "execution_count": 53,
   "id": "5ffb90dd-425f-4f1b-8ef1-0155a0b26d8e",
   "metadata": {},
   "outputs": [
    {
     "name": "stdin",
     "output_type": "stream",
     "text": [
      "sayı girin (çıkmak için 0): 55\n",
      "sayı girin (çıkmak için 0): 18\n",
      "sayı girin (çıkmak için 0): 81\n",
      "sayı girin (çıkmak için 0): 555\n",
      "sayı girin (çıkmak için 0): 118\n",
      "sayı girin (çıkmak için 0): 0\n"
     ]
    },
    {
     "name": "stdout",
     "output_type": "stream",
     "text": [
      "Toplam: 827\n",
      "Ortalama: 165.4\n"
     ]
    }
   ],
   "source": [
    "toplam=0\n",
    "adet=0\n",
    "\n",
    "while True:\n",
    "    sayi=int(input(\"sayı girin (çıkmak için 0):\"))\n",
    "    if sayi ==0:\n",
    "        break\n",
    "    toplam +=sayi\n",
    "    adet += 1\n",
    "\n",
    "if adet > 0:\n",
    "    print(\"Toplam:\",toplam)\n",
    "    print(\"Ortalama:\",toplam / adet)\n",
    "else:\n",
    "    print(\"Hiç sayı girilmedi.\")"
   ]
  },
  {
   "cell_type": "code",
   "execution_count": 55,
   "id": "37e6d2c1-ec67-40c4-934d-766e9cc21f01",
   "metadata": {},
   "outputs": [],
   "source": [
    "#SORU-7 POLİNDROM KONTROLÜ"
   ]
  },
  {
   "cell_type": "code",
   "execution_count": 69,
   "id": "46ce0e45-0189-4479-acbb-d2f7f08efebf",
   "metadata": {},
   "outputs": [
    {
     "name": "stdin",
     "output_type": "stream",
     "text": [
      "Bir kelime giriniz: çanta\n"
     ]
    },
    {
     "name": "stdout",
     "output_type": "stream",
     "text": [
      "Palindrom degil\n"
     ]
    }
   ],
   "source": [
    "kelime=input(\"Bir kelime giriniz:\")\n",
    "\n",
    "tersi=\"\"\n",
    "for h in kelime:\n",
    "    tersi =h +tersi\n",
    "\n",
    "if kelime==tersi:\n",
    "    print(\"Palindrom\")\n",
    "else:\n",
    "    print(\"Palindrom degil\")"
   ]
  },
  {
   "cell_type": "code",
   "execution_count": null,
   "id": "2e82fefa-2252-402b-bb9a-026386446927",
   "metadata": {},
   "outputs": [],
   "source": [
    "#SORU-8 LİST COMPREHENSİON"
   ]
  },
  {
   "cell_type": "code",
   "execution_count": 94,
   "id": "4c2c98b5-9a6a-442f-87ba-1ddac2dcfef6",
   "metadata": {},
   "outputs": [
    {
     "name": "stdout",
     "output_type": "stream",
     "text": [
      "[225, 900, 2025, 3600, 5625, 8100]\n"
     ]
    }
   ],
   "source": [
    "liste =[]\n",
    "\n",
    "for x in range(1,101):\n",
    "   if x%3==0 and x%5==0:\n",
    "       kare=x*x\n",
    "       liste.append(kare)\n",
    "print(liste)\n",
    "  "
   ]
  },
  {
   "cell_type": "code",
   "execution_count": null,
   "id": "a089e2d1-a563-43f9-b8dd-d434f796bc15",
   "metadata": {},
   "outputs": [],
   "source": [
    "#SORU-9 STRİNG İŞLEMLERİ"
   ]
  },
  {
   "cell_type": "code",
   "execution_count": 106,
   "id": "8bc67a3f-0c78-4e53-b4fb-cc96c12fb556",
   "metadata": {},
   "outputs": [
    {
     "name": "stdin",
     "output_type": "stream",
     "text": [
      "Bir cümle giriniz: tech careeer yaz kampı ödev\n"
     ]
    },
    {
     "name": "stdout",
     "output_type": "stream",
     "text": [
      "yeni cümle: Tech Careeer Yaz Kampı Ödev\n"
     ]
    }
   ],
   "source": [
    "cumle = input(\"Bir cümle giriniz:\")\n",
    "kelimeler = cumle.split()\n",
    "yeni_cumle =\" \".join([kelime.capitalize()\n",
    "                     for kelime in kelimeler])\n",
    "print(\"yeni cümle:\",yeni_cumle)"
   ]
  },
  {
   "cell_type": "code",
   "execution_count": null,
   "id": "f9e00cfa-a38e-4422-80ab-c25eb06bbfbc",
   "metadata": {},
   "outputs": [],
   "source": [
    "#MİNİ PROJE -FİLM YORUM ANALİZİ"
   ]
  },
  {
   "cell_type": "code",
   "execution_count": 143,
   "id": "a800c8e4-8555-49fd-b4e0-9b6cae55a80f",
   "metadata": {},
   "outputs": [
    {
     "name": "stdout",
     "output_type": "stream",
     "text": [
      "Toplam yorum sayısı: 4\n",
      "Her bir yorumun uzunluğu: [44, 50, 54, 36]\n",
      "İyi geçen yorum sayısı: 3\n",
      "En kısa yorum: Hiç iyi bir film değildi beğenmedim.\n",
      "Ortalama uzunluk: 46.0\n"
     ]
    }
   ],
   "source": [
    "yorumlar=[\"Film klasikti dikkat çeken hiçbir şey yoktu.\",\n",
    "          \"Çok eglenceliydi gerçekten oyuncularda çok iyiydi.\",\n",
    "          \"Son zamanlarda izledigim en gerçekçi ve iyiydi filmdi.\",\n",
    "          \"Hiç iyi bir film değildi beğenmedim.\"]\n",
    "\n",
    "#toplam yorum sayısı\n",
    "toplam_yorum=len(yorumlar)\n",
    "print(\"Toplam yorum sayısı:\",toplam_yorum)\n",
    "\n",
    "#her yorumun uzunlugu\n",
    "uzunluklar=[len(yorum)\n",
    "            for yorum in yorumlar]\n",
    "print(\"Her bir yorumun uzunluğu:\",uzunluklar)\n",
    "\n",
    "#kaç yorumda iyi kelimesi geçti.\n",
    "ıyı_sayısı=sum(\"iyi\" in yorum\n",
    "               for yorum in yorumlar)\n",
    "print(\"İyi geçen yorum sayısı:\",ıyı_sayısı)\n",
    "\n",
    "#en kısa yorum\n",
    "en_kısa=min(yorumlar,key=len)\n",
    "print(\"En kısa yorum:\",en_kısa)\n",
    "\n",
    "#tüm yorumların ortalama uzunlukları\n",
    "uzunluklar =[len(yorum) for yorum in yorumlar]\n",
    "ortalama_uzunluk =sum(uzunluklar)/len(uzunluklar)\n",
    "print(\"Ortalama uzunluk:\",ortalama_uzunluk)\n",
    "\n",
    "\n"
   ]
  },
  {
   "cell_type": "code",
   "execution_count": null,
   "id": "062c018a-cd3e-4087-9344-4d22daf90cd4",
   "metadata": {},
   "outputs": [],
   "source": []
  },
  {
   "cell_type": "code",
   "execution_count": null,
   "id": "4b38ad2c-48d0-4004-a432-48c1e44db5ed",
   "metadata": {},
   "outputs": [],
   "source": []
  }
 ],
 "metadata": {
  "kernelspec": {
   "display_name": "Python 3 (ipykernel)",
   "language": "python",
   "name": "python3"
  },
  "language_info": {
   "codemirror_mode": {
    "name": "ipython",
    "version": 3
   },
   "file_extension": ".py",
   "mimetype": "text/x-python",
   "name": "python",
   "nbconvert_exporter": "python",
   "pygments_lexer": "ipython3",
   "version": "3.12.4"
  }
 },
 "nbformat": 4,
 "nbformat_minor": 5
}
